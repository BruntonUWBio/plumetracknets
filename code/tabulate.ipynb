{
 "cells": [
  {
   "cell_type": "code",
   "execution_count": 1,
   "metadata": {},
   "outputs": [
    {
     "data": {
      "text/plain": [
       "'\\njupyter-nbconvert tabulate.ipynb --to python \\nipython tabulate.py -- --base_dir ~/plume/plumezoo/latest/fly/memory/\\n\\nipython tabulate.py -- --base_dir ~/plume/plumezoo/\\nipython tabulate.py -- --base_dir ~/plume/plume2/ppo/trained_models/\\n'"
      ]
     },
     "execution_count": 1,
     "metadata": {},
     "output_type": "execute_result"
    }
   ],
   "source": [
    "\"\"\"\n",
    "jupyter-nbconvert tabulate.ipynb --to python \n",
    "ipython tabulate.py -- --base_dir ~/plume/plumezoo/latest/fly/memory/\n",
    "\n",
    "ipython tabulate.py -- --base_dir ~/plume/plumezoo/\n",
    "ipython tabulate.py -- --base_dir ~/plume/plume2/ppo/trained_models/\n",
    "\"\"\""
   ]
  },
  {
   "cell_type": "code",
   "execution_count": 2,
   "metadata": {},
   "outputs": [],
   "source": [
    "import pandas as pd\n",
    "import glob \n",
    "from pathlib import Path\n",
    "import tqdm\n",
    "import os\n",
    "import argparse"
   ]
  },
  {
   "cell_type": "code",
   "execution_count": 3,
   "metadata": {},
   "outputs": [
    {
     "name": "stdout",
     "output_type": "stream",
     "text": [
      "Interactive mode\n"
     ]
    }
   ],
   "source": [
    "import sys\n",
    "batchmode = False\n",
    "if 'ipykernel_launcher' in sys.argv[0]:\n",
    "    print(\"Interactive mode\")\n",
    "    \n",
    "#     BASE_DIR=\"~/plume/plumezoo/latest/fly/memory/\"\n",
    "    BASE_DIR=\"~/plume/plumezoo/latest/fly/memory_reject/\"\n",
    "#     BASE_DIR=\"~/plume/plumezoo/latest/fly/memory_extras/\"\n",
    "#     BASE_DIR=\"~/plume/plume2/ppo/trained_models/\"\n",
    "#     BASE_DIR=\"~/plume/plumezoo/\"\n",
    "#     BASE_DIR=\"~/plume/plumezoo/dynamic/fly/memory_reject/\"\n",
    "\n",
    "    \n",
    "else:\n",
    "    batchmode = True\n",
    "    print(\"Batch/CLI mode\")\n",
    "    import argparse\n",
    "    \n",
    "    parser = argparse.ArgumentParser(description='')\n",
    "    parser.add_argument('--base_dir', default='./')\n",
    "    args = parser.parse_args()\n",
    "    BASE_DIR=args.base_dir"
   ]
  },
  {
   "cell_type": "code",
   "execution_count": 4,
   "metadata": {},
   "outputs": [
    {
     "name": "stdout",
     "output_type": "stream",
     "text": [
      "~/plume/plumezoo/dynamic/fly/memory_reject/\n"
     ]
    }
   ],
   "source": [
    "print(BASE_DIR)\n",
    "# fnames = Path(BASE_DIR).rglob('*VRNN*/*_summary.csv')\n",
    "# fnames = !find {BASE_DIR} -name \"*VRNN*/*_summary.csv\"\n",
    "fnames = !find {BASE_DIR} -name \"*_summary.csv\"\n",
    "# fnames"
   ]
  },
  {
   "cell_type": "code",
   "execution_count": 5,
   "metadata": {},
   "outputs": [
    {
     "name": "stderr",
     "output_type": "stream",
     "text": [
      "100%|██████████| 2759/2759 [00:04<00:00, 638.88it/s]\n"
     ]
    }
   ],
   "source": [
    "counts_df = []\n",
    "for fname in tqdm.tqdm(fnames):\n",
    "    s = pd.read_csv(fname) \n",
    "    dataset = str(fname).split('/')[-1].replace('_summary.csv','')\n",
    "    row = {\n",
    "        'dataset': dataset,\n",
    "        'HOME': sum(s['reason'] == 'HOME'),\n",
    "        'OOB': sum(s['reason'] == 'OOB'),\n",
    "        'OOT': sum(s['reason'] == 'OOT'),\n",
    "        'total': len(s['reason']),\n",
    "        'seed': str(fname).split('seed')[-1].split('/')[0],\n",
    "        'model_dir': str(fname).replace(f'{dataset}_summary.csv','').replace(os.path.expanduser(BASE_DIR), ''),\n",
    "        'code': str(fname).split('code')[-1].split('_')[0],\n",
    "        'fname': str(fname)\n",
    "    }\n",
    "    counts_df.append(row)\n",
    "    \n",
    "counts_df = pd.DataFrame(counts_df)"
   ]
  },
  {
   "cell_type": "code",
   "execution_count": 6,
   "metadata": {},
   "outputs": [],
   "source": [
    "eligible_datasets = [\n",
    "        'constantx5b5', \n",
    "        'switch15x5b5', \n",
    "        'switch30x5b5', \n",
    "        'switch45x5b5', \n",
    "        'noisy3x5b5', \n",
    "        'noisy6x5b5',\n",
    "        'constantx5b5_0.8',\n",
    "        'constantx5b5_0.6',\n",
    "        'constantx5b5_0.4', \n",
    "        'constantx5b5_0.2',\n",
    "]"
   ]
  },
  {
   "cell_type": "code",
   "execution_count": 7,
   "metadata": {},
   "outputs": [
    {
     "name": "stdout",
     "output_type": "stream",
     "text": [
      "(2759, 9)\n",
      "(2651, 9)\n"
     ]
    }
   ],
   "source": [
    "print(counts_df.shape)\n",
    "# counts_df = counts_df.query(\"total == 240 and dataset in @eligible_datasets\")\n",
    "counts_df = counts_df.query(\"dataset in @eligible_datasets\")\n",
    "print(counts_df.shape)"
   ]
  },
  {
   "cell_type": "code",
   "execution_count": 8,
   "metadata": {},
   "outputs": [
    {
     "data": {
      "text/plain": [
       "array(['noisy6x5b5', 'switch45x5b5', 'constantx5b5_0.8',\n",
       "       'constantx5b5_0.4', 'switch30x5b5', 'constantx5b5_0.6',\n",
       "       'noisy3x5b5', 'switch15x5b5', 'constantx5b5', 'constantx5b5_0.2'],\n",
       "      dtype=object)"
      ]
     },
     "execution_count": 8,
     "metadata": {},
     "output_type": "execute_result"
    }
   ],
   "source": [
    "counts_df['dataset'].unique()"
   ]
  },
  {
   "cell_type": "code",
   "execution_count": 9,
   "metadata": {},
   "outputs": [],
   "source": [
    "# Pivot and total\n",
    "pivot_df = counts_df.pivot(index=['model_dir', 'code'], columns='dataset', values='HOME').reset_index()\n",
    "# pivot_df['total'] = pivot_df.sum(axis=1, skipna=True)\n",
    "pivot_df['total'] = pivot_df[['constantx5b5', 'noisy3x5b5', 'switch45x5b5',]].sum(axis=1, skipna=True)\n",
    "# pivot_df['total'] = pivot_df['constantx5b5']/3 + pivot_df['noisy3x5b5'] + pivot_df['switch45x5b5']"
   ]
  },
  {
   "cell_type": "code",
   "execution_count": 10,
   "metadata": {},
   "outputs": [
    {
     "data": {
      "text/html": [
       "<div>\n",
       "<style scoped>\n",
       "    .dataframe tbody tr th:only-of-type {\n",
       "        vertical-align: middle;\n",
       "    }\n",
       "\n",
       "    .dataframe tbody tr th {\n",
       "        vertical-align: top;\n",
       "    }\n",
       "\n",
       "    .dataframe thead th {\n",
       "        text-align: right;\n",
       "    }\n",
       "</style>\n",
       "<table border=\"1\" class=\"dataframe\">\n",
       "  <thead>\n",
       "    <tr style=\"text-align: right;\">\n",
       "      <th>dataset</th>\n",
       "      <th>total</th>\n",
       "      <th>constantx5b5</th>\n",
       "      <th>switch45x5b5</th>\n",
       "      <th>noisy3x5b5</th>\n",
       "      <th>noisy6x5b5</th>\n",
       "      <th>switch30x5b5</th>\n",
       "      <th>switch15x5b5</th>\n",
       "      <th>constantx5b5_0.8</th>\n",
       "      <th>constantx5b5_0.6</th>\n",
       "      <th>constantx5b5_0.4</th>\n",
       "      <th>constantx5b5_0.2</th>\n",
       "      <th>code</th>\n",
       "      <th>model_dir</th>\n",
       "    </tr>\n",
       "  </thead>\n",
       "  <tbody>\n",
       "    <tr>\n",
       "      <th>335</th>\n",
       "      <td>274.0</td>\n",
       "      <td>118.0</td>\n",
       "      <td>107.0</td>\n",
       "      <td>49.0</td>\n",
       "      <td>1.0</td>\n",
       "      <td>62.0</td>\n",
       "      <td>34.0</td>\n",
       "      <td>103.0</td>\n",
       "      <td>103.0</td>\n",
       "      <td>103.0</td>\n",
       "      <td>103.0</td>\n",
       "      <td>MLPs10</td>\n",
       "      <td>plume_20210529_MLP_s10_noisy3x5b5_stepoob_fixe...</td>\n",
       "    </tr>\n",
       "    <tr>\n",
       "      <th>65</th>\n",
       "      <td>268.0</td>\n",
       "      <td>128.0</td>\n",
       "      <td>17.0</td>\n",
       "      <td>123.0</td>\n",
       "      <td>NaN</td>\n",
       "      <td>NaN</td>\n",
       "      <td>NaN</td>\n",
       "      <td>NaN</td>\n",
       "      <td>NaN</td>\n",
       "      <td>NaN</td>\n",
       "      <td>NaN</td>\n",
       "      <td>VRNN</td>\n",
       "      <td>plume_20210523_VRNN_constantx5b5_step_posend_b...</td>\n",
       "    </tr>\n",
       "    <tr>\n",
       "      <th>119</th>\n",
       "      <td>253.0</td>\n",
       "      <td>82.0</td>\n",
       "      <td>118.0</td>\n",
       "      <td>53.0</td>\n",
       "      <td>NaN</td>\n",
       "      <td>NaN</td>\n",
       "      <td>NaN</td>\n",
       "      <td>NaN</td>\n",
       "      <td>NaN</td>\n",
       "      <td>NaN</td>\n",
       "      <td>NaN</td>\n",
       "      <td>VRNN</td>\n",
       "      <td>plume_20210524_VRNN_constantx5b5_step_posend_b...</td>\n",
       "    </tr>\n",
       "    <tr>\n",
       "      <th>28</th>\n",
       "      <td>244.0</td>\n",
       "      <td>155.0</td>\n",
       "      <td>73.0</td>\n",
       "      <td>16.0</td>\n",
       "      <td>31.0</td>\n",
       "      <td>104.0</td>\n",
       "      <td>127.0</td>\n",
       "      <td>130.0</td>\n",
       "      <td>137.0</td>\n",
       "      <td>6.0</td>\n",
       "      <td>0.0</td>\n",
       "      <td>VRNN</td>\n",
       "      <td>plume_20210521_VRNN_constantx5b5_stepstray_del...</td>\n",
       "    </tr>\n",
       "    <tr>\n",
       "      <th>127</th>\n",
       "      <td>233.0</td>\n",
       "      <td>153.0</td>\n",
       "      <td>77.0</td>\n",
       "      <td>3.0</td>\n",
       "      <td>NaN</td>\n",
       "      <td>NaN</td>\n",
       "      <td>NaN</td>\n",
       "      <td>NaN</td>\n",
       "      <td>NaN</td>\n",
       "      <td>NaN</td>\n",
       "      <td>NaN</td>\n",
       "      <td>VRNN</td>\n",
       "      <td>plume_20210524_VRNN_constantx5b5_stepend_bx0.3...</td>\n",
       "    </tr>\n",
       "    <tr>\n",
       "      <th>...</th>\n",
       "      <td>...</td>\n",
       "      <td>...</td>\n",
       "      <td>...</td>\n",
       "      <td>...</td>\n",
       "      <td>...</td>\n",
       "      <td>...</td>\n",
       "      <td>...</td>\n",
       "      <td>...</td>\n",
       "      <td>...</td>\n",
       "      <td>...</td>\n",
       "      <td>...</td>\n",
       "      <td>...</td>\n",
       "      <td>...</td>\n",
       "    </tr>\n",
       "    <tr>\n",
       "      <th>332</th>\n",
       "      <td>0.0</td>\n",
       "      <td>0.0</td>\n",
       "      <td>0.0</td>\n",
       "      <td>0.0</td>\n",
       "      <td>0.0</td>\n",
       "      <td>0.0</td>\n",
       "      <td>0.0</td>\n",
       "      <td>0.0</td>\n",
       "      <td>0.0</td>\n",
       "      <td>0.0</td>\n",
       "      <td>0.0</td>\n",
       "      <td>MLPs10</td>\n",
       "      <td>plume_20210529_MLP_s10_noisy3x5b5_stepoob_fixe...</td>\n",
       "    </tr>\n",
       "    <tr>\n",
       "      <th>333</th>\n",
       "      <td>0.0</td>\n",
       "      <td>0.0</td>\n",
       "      <td>0.0</td>\n",
       "      <td>0.0</td>\n",
       "      <td>50.0</td>\n",
       "      <td>0.0</td>\n",
       "      <td>0.0</td>\n",
       "      <td>5.0</td>\n",
       "      <td>5.0</td>\n",
       "      <td>5.0</td>\n",
       "      <td>5.0</td>\n",
       "      <td>MLPs10</td>\n",
       "      <td>plume_20210529_MLP_s10_noisy3x5b5_stepoob_fixe...</td>\n",
       "    </tr>\n",
       "    <tr>\n",
       "      <th>303</th>\n",
       "      <td>0.0</td>\n",
       "      <td>0.0</td>\n",
       "      <td>0.0</td>\n",
       "      <td>0.0</td>\n",
       "      <td>0.0</td>\n",
       "      <td>0.0</td>\n",
       "      <td>0.0</td>\n",
       "      <td>0.0</td>\n",
       "      <td>0.0</td>\n",
       "      <td>0.0</td>\n",
       "      <td>0.0</td>\n",
       "      <td>MLPs02</td>\n",
       "      <td>plume_20210529_MLP_s02_noisy3x5b5_stepoob_fixe...</td>\n",
       "    </tr>\n",
       "    <tr>\n",
       "      <th>178</th>\n",
       "      <td>0.0</td>\n",
       "      <td>0.0</td>\n",
       "      <td>0.0</td>\n",
       "      <td>0.0</td>\n",
       "      <td>2.0</td>\n",
       "      <td>NaN</td>\n",
       "      <td>NaN</td>\n",
       "      <td>2.0</td>\n",
       "      <td>2.0</td>\n",
       "      <td>2.0</td>\n",
       "      <td>2.0</td>\n",
       "      <td>MLPs04</td>\n",
       "      <td>plume_20210526_MLP_s04_constantx5b5_step_posoo...</td>\n",
       "    </tr>\n",
       "    <tr>\n",
       "      <th>181</th>\n",
       "      <td>0.0</td>\n",
       "      <td>0.0</td>\n",
       "      <td>0.0</td>\n",
       "      <td>0.0</td>\n",
       "      <td>0.0</td>\n",
       "      <td>NaN</td>\n",
       "      <td>NaN</td>\n",
       "      <td>5.0</td>\n",
       "      <td>5.0</td>\n",
       "      <td>5.0</td>\n",
       "      <td>5.0</td>\n",
       "      <td>MLPs04</td>\n",
       "      <td>plume_20210526_MLP_s04_constantx5b5_stepoob_fi...</td>\n",
       "    </tr>\n",
       "  </tbody>\n",
       "</table>\n",
       "<p>362 rows × 13 columns</p>\n",
       "</div>"
      ],
      "text/plain": [
       "dataset  total  constantx5b5  switch45x5b5  noisy3x5b5  noisy6x5b5  \\\n",
       "335      274.0         118.0         107.0        49.0         1.0   \n",
       "65       268.0         128.0          17.0       123.0         NaN   \n",
       "119      253.0          82.0         118.0        53.0         NaN   \n",
       "28       244.0         155.0          73.0        16.0        31.0   \n",
       "127      233.0         153.0          77.0         3.0         NaN   \n",
       "..         ...           ...           ...         ...         ...   \n",
       "332        0.0           0.0           0.0         0.0         0.0   \n",
       "333        0.0           0.0           0.0         0.0        50.0   \n",
       "303        0.0           0.0           0.0         0.0         0.0   \n",
       "178        0.0           0.0           0.0         0.0         2.0   \n",
       "181        0.0           0.0           0.0         0.0         0.0   \n",
       "\n",
       "dataset  switch30x5b5  switch15x5b5  constantx5b5_0.8  constantx5b5_0.6  \\\n",
       "335              62.0          34.0             103.0             103.0   \n",
       "65                NaN           NaN               NaN               NaN   \n",
       "119               NaN           NaN               NaN               NaN   \n",
       "28              104.0         127.0             130.0             137.0   \n",
       "127               NaN           NaN               NaN               NaN   \n",
       "..                ...           ...               ...               ...   \n",
       "332               0.0           0.0               0.0               0.0   \n",
       "333               0.0           0.0               5.0               5.0   \n",
       "303               0.0           0.0               0.0               0.0   \n",
       "178               NaN           NaN               2.0               2.0   \n",
       "181               NaN           NaN               5.0               5.0   \n",
       "\n",
       "dataset  constantx5b5_0.4  constantx5b5_0.2    code  \\\n",
       "335                 103.0             103.0  MLPs10   \n",
       "65                    NaN               NaN    VRNN   \n",
       "119                   NaN               NaN    VRNN   \n",
       "28                    6.0               0.0    VRNN   \n",
       "127                   NaN               NaN    VRNN   \n",
       "..                    ...               ...     ...   \n",
       "332                   0.0               0.0  MLPs10   \n",
       "333                   5.0               5.0  MLPs10   \n",
       "303                   0.0               0.0  MLPs02   \n",
       "178                   2.0               2.0  MLPs04   \n",
       "181                   5.0               5.0  MLPs04   \n",
       "\n",
       "dataset                                          model_dir  \n",
       "335      plume_20210529_MLP_s10_noisy3x5b5_stepoob_fixe...  \n",
       "65       plume_20210523_VRNN_constantx5b5_step_posend_b...  \n",
       "119      plume_20210524_VRNN_constantx5b5_step_posend_b...  \n",
       "28       plume_20210521_VRNN_constantx5b5_stepstray_del...  \n",
       "127      plume_20210524_VRNN_constantx5b5_stepend_bx0.3...  \n",
       "..                                                     ...  \n",
       "332      plume_20210529_MLP_s10_noisy3x5b5_stepoob_fixe...  \n",
       "333      plume_20210529_MLP_s10_noisy3x5b5_stepoob_fixe...  \n",
       "303      plume_20210529_MLP_s02_noisy3x5b5_stepoob_fixe...  \n",
       "178      plume_20210526_MLP_s04_constantx5b5_step_posoo...  \n",
       "181      plume_20210526_MLP_s04_constantx5b5_stepoob_fi...  \n",
       "\n",
       "[362 rows x 13 columns]"
      ]
     },
     "execution_count": 10,
     "metadata": {},
     "output_type": "execute_result"
    }
   ],
   "source": [
    "col_order = [\n",
    "        'total',\n",
    "        'constantx5b5', \n",
    "        'switch45x5b5', \n",
    "        'noisy3x5b5', \n",
    "        'noisy6x5b5',\n",
    "        'switch30x5b5', \n",
    "        'switch15x5b5', \n",
    "        'constantx5b5_0.8',\n",
    "        'constantx5b5_0.6',\n",
    "        'constantx5b5_0.4', \n",
    "        'constantx5b5_0.2',\n",
    "        'code',\n",
    "        'model_dir',\n",
    "]\n",
    "pivot_df = pivot_df[col_order]\n",
    "pivot_df = pivot_df.sort_values(by='total', ascending=False)\n",
    "pivot_df"
   ]
  },
  {
   "cell_type": "code",
   "execution_count": 11,
   "metadata": {},
   "outputs": [],
   "source": [
    "pivot_df.to_csv(f'{BASE_DIR}/tabulated.tsv', sep='\\t', index=False)\n",
    "pivot_df.to_csv(f'{BASE_DIR}/tabulated.csv', index=False)"
   ]
  },
  {
   "cell_type": "code",
   "execution_count": 12,
   "metadata": {},
   "outputs": [],
   "source": [
    "# import seaborn as sns\n",
    "# sns.pairplot(pivot_df)"
   ]
  },
  {
   "cell_type": "code",
   "execution_count": 13,
   "metadata": {},
   "outputs": [
    {
     "data": {
      "text/plain": [
       "code\n",
       "GRU        8\n",
       "MLPs02    46\n",
       "MLPs04    39\n",
       "MLPs06    39\n",
       "MLPs08    45\n",
       "MLPs10    44\n",
       "MLPs12    52\n",
       "VRNN      89\n",
       "Name: total, dtype: int64"
      ]
     },
     "execution_count": 13,
     "metadata": {},
     "output_type": "execute_result"
    }
   ],
   "source": [
    "# Before filtering\n",
    "pivot_df.groupby('code')['total'].count()"
   ]
  },
  {
   "cell_type": "code",
   "execution_count": 21,
   "metadata": {},
   "outputs": [],
   "source": [
    "# Filter for quality\n",
    "# pivot_df.query(\"constantx5b5>0 and switch45x5b5>0 and noisy3x5b5>0 \").groupby('code').head(5)\n",
    "# nonzeros = pivot_df.query(\"constantx5b5>0 and switch45x5b5>0 and noisy3x5b5>0 \")\n",
    "# nonzeros = pivot_df.query(\"constantx5b5>0 and switch45x5b5>0 \") # for MLP_s02 and MLP_s04\n",
    "nonzeros = pivot_df.query(\"constantx5b5>0\") # for MLP_s02 and MLP_s04"
   ]
  },
  {
   "cell_type": "code",
   "execution_count": 22,
   "metadata": {},
   "outputs": [
    {
     "data": {
      "text/plain": [
       "code\n",
       "GRU       5\n",
       "MLPs02    5\n",
       "MLPs04    5\n",
       "MLPs06    5\n",
       "MLPs08    5\n",
       "MLPs10    5\n",
       "MLPs12    5\n",
       "VRNN      5\n",
       "Name: total, dtype: int64"
      ]
     },
     "execution_count": 22,
     "metadata": {},
     "output_type": "execute_result"
    }
   ],
   "source": [
    "# Sort to select top\n",
    "selected = nonzeros.sort_values(by='total', ascending=False).groupby('code').head(5) # .reset_index(drop=True)\n",
    "selected.groupby('code')['total'].count()"
   ]
  },
  {
   "cell_type": "code",
   "execution_count": 23,
   "metadata": {},
   "outputs": [
    {
     "data": {
      "text/plain": [
       "335    plume_20210529_MLP_s10_noisy3x5b5_stepoob_fixe...\n",
       "65     plume_20210523_VRNN_constantx5b5_step_posend_b...\n",
       "119    plume_20210524_VRNN_constantx5b5_step_posend_b...\n",
       "28     plume_20210521_VRNN_constantx5b5_stepstray_del...\n",
       "127    plume_20210524_VRNN_constantx5b5_stepend_bx0.3...\n",
       "242    plume_20210527_VRNN_constantx5b5_stepoob_fixed...\n",
       "105    plume_20210524_MLP_s10_constantx5b5_stepend_bx...\n",
       "236    plume_20210527_MLP_s12_constantx5b5_step_posoo...\n",
       "113    plume_20210524_MLP_s12_constantx5b5_stepend_bx...\n",
       "213    plume_20210527_GRU_constantx5b5_stepoob_fixed_...\n",
       "211    plume_20210527_GRU_constantx5b5_stepoob_fixed_...\n",
       "191    plume_20210526_MLP_s10_constantx5b5_step_posoo...\n",
       "187    plume_20210526_MLP_s08_constantx5b5_step_posoo...\n",
       "70     plume_20210524_MLP_s02_constantx5b5_step_posen...\n",
       "78     plume_20210524_MLP_s04_constantx5b5_step_posen...\n",
       "57     plume_20210523_MLP_s10_constantx5b5_stepend_bx...\n",
       "208    plume_20210527_GRU_constantx5b5_step_posoob_fi...\n",
       "8      plume_20210520_MLP_s12_noisy3x5b5_stepstray_bx...\n",
       "189    plume_20210526_MLP_s08_constantx5b5_stepoob_fi...\n",
       "172    plume_20210526_GRU_constantx5b5_step_posoob_fi...\n",
       "90     plume_20210524_MLP_s06_constantx5b5_stepend_bx...\n",
       "110    plume_20210524_MLP_s12_constantx5b5_step_posen...\n",
       "86     plume_20210524_MLP_s06_constantx5b5_step_posen...\n",
       "59     plume_20210523_MLP_s12_constantx5b5_step_posen...\n",
       "49     plume_20210523_MLP_s06_constantx5b5_stepend_bx...\n",
       "220    plume_20210527_MLP_s04_constantx5b5_step_posoo...\n",
       "180    plume_20210526_MLP_s04_constantx5b5_stepoob_fi...\n",
       "230    plume_20210527_MLP_s08_constantx5b5_stepoob_fi...\n",
       "229    plume_20210527_MLP_s08_constantx5b5_stepoob_fi...\n",
       "176    plume_20210526_MLP_s02_constantx5b5_stepoob_fi...\n",
       "318    plume_20210529_MLP_s06_noisy3x5b5_stepoob_fixe...\n",
       "44     plume_20210523_MLP_s04_constantx5b5_step_posen...\n",
       "131    plume_20210525_MLP_s02_constantx5b5_step_posoo...\n",
       "355    plume_20210530_MLP_s06_noisy3x5b5_stepoob_fixe...\n",
       "272    plume_20210528_MLP_s08_constantx5b5_stepoob_fi...\n",
       "358    plume_20210530_MLP_s10_noisy3x5b5_stepoob_fixe...\n",
       "221    plume_20210527_MLP_s04_constantx5b5_stepoob_fi...\n",
       "216    plume_20210527_MLP_s02_constantx5b5_stepoob_fi...\n",
       "76     plume_20210524_MLP_s02_constantx5b5_stepend_bx...\n",
       "209    plume_20210527_GRU_constantx5b5_step_posoob_fi...\n",
       "Name: model_dir, dtype: object"
      ]
     },
     "execution_count": 23,
     "metadata": {},
     "output_type": "execute_result"
    }
   ],
   "source": [
    "# with pd.option_context('display.max_rows', None, 'display.max_columns', None): \n",
    "selected['model_dir'].to_csv(f'{BASE_DIR}/selected.csv', index=False, header=False)\n",
    "selected['model_dir']"
   ]
  },
  {
   "cell_type": "code",
   "execution_count": 17,
   "metadata": {},
   "outputs": [
    {
     "data": {
      "text/plain": [
       "'\\nDESTDIR=../memory/\\nfor ARCH in _s06 _s08 _s10 _s12 VRNN GRU; do\\n\\tfor DIR in $(cat selected.csv | grep $ARCH); do \\n\\t echo ${DIR%/} $(ls ${DIR%/}* | wc -l)\\n\\t mv ${DIR%/}* $DESTDIR\\n\\tdone\\ndone\\n\\nfor ARCH in _s02 _s04; do\\n\\tfor DIR in $(cat selected.csv | grep $ARCH); do \\n\\t echo ${DIR%/} $(ls ${DIR%/}* | wc -l)\\n\\t mv ${DIR%/}* $DESTDIR\\n\\tdone\\ndone\\n'"
      ]
     },
     "execution_count": 17,
     "metadata": {},
     "output_type": "execute_result"
    }
   ],
   "source": [
    "\"\"\"\n",
    "mkdir ../memory/\n",
    "\n",
    "DESTDIR=../memory/\n",
    "for ARCH in _s02 _s04 _s06 _s08 _s10 _s12 VRNN GRU; do\n",
    "\tfor DIR in $(cat selected.csv | grep $ARCH); do \n",
    "\t echo ${DIR%/} $(ls ${DIR%/}* | wc -l)\n",
    "\t mv ${DIR%/}* $DESTDIR\n",
    "\tdone\n",
    "done\n",
    "\n",
    "for ARCH in _s02 _s04; do\n",
    "\tfor DIR in $(cat selected.csv | grep $ARCH); do \n",
    "\t echo ${DIR%/} $(ls ${DIR%/}* | wc -l)\n",
    "\t mv ${DIR%/}* $DESTDIR\n",
    "\tdone\n",
    "done\n",
    "\"\"\""
   ]
  }
 ],
 "metadata": {
  "kernelspec": {
   "display_name": "Python 3",
   "language": "python",
   "name": "python3"
  },
  "language_info": {
   "codemirror_mode": {
    "name": "ipython",
    "version": 3
   },
   "file_extension": ".py",
   "mimetype": "text/x-python",
   "name": "python",
   "nbconvert_exporter": "python",
   "pygments_lexer": "ipython3",
   "version": "3.7.4"
  }
 },
 "nbformat": 4,
 "nbformat_minor": 2
}
