{
 "cells": [
  {
   "cell_type": "markdown",
   "metadata": {},
   "source": [
    "## Prereq: python sim_cli.py --duration 120 --cores 24"
   ]
  },
  {
   "cell_type": "code",
   "execution_count": 1,
   "metadata": {},
   "outputs": [
    {
     "name": "stdout",
     "output_type": "stream",
     "text": [
      "dict_keys(['noisy1', 'noisy3x3', 'test', 'noisy3x2', 'switch45', 'noisy4', 'noisy3', 'constant25fps', 'constant', 'noisy3x1', 'constantx2', 'constantx3', 'constantx4', 'noisy2'])\n"
     ]
    }
   ],
   "source": [
    "import sim_analysis as plume_analysis\n",
    "import sim_analysis\n",
    "import tqdm\n",
    "\n",
    "import pandas as pd\n",
    "import numpy as np\n",
    "\n",
    "import matplotlib.pyplot as plt\n",
    "from IPython import display as ipythondisplay\n",
    "\n",
    "import config\n",
    "print(config.dataset.keys())"
   ]
  },
  {
   "cell_type": "code",
   "execution_count": 2,
   "metadata": {},
   "outputs": [
    {
     "name": "stdout",
     "output_type": "stream",
     "text": [
      "noisy3x2\n",
      "noisy3x2\n"
     ]
    },
    {
     "name": "stderr",
     "output_type": "stream",
     "text": [
      "/home/satsingh/plume/plume2/sim_analysis.py:226: RuntimeWarning: overflow encountered in true_divide\n",
      "  c = 1/(4/3.*np.pi*rad**3)\n"
     ]
    }
   ],
   "source": [
    "# Simulator filename defaults\n",
    "# fname_puff, fname_wind = 'puff_data_df.pickle', 'wind_data.pickle'\n",
    "dataset = [\n",
    "            'constant',\n",
    "            'noisy1',\n",
    "            'noisy2',\n",
    "            'noisy3',\n",
    "            'noisy4',\n",
    "            'switch45',\n",
    "    \n",
    "            'constantx2', #6\n",
    "            'noisy3x2', #7\n",
    "\n",
    "            'constantx3', #8\n",
    "            'noisy3x3', #9\n",
    "           ][7]\n",
    "print(dataset)\n",
    "data_puffs, data_wind = plume_analysis.load_plume(dataset)"
   ]
  },
  {
   "cell_type": "code",
   "execution_count": null,
   "metadata": {},
   "outputs": [],
   "source": []
  },
  {
   "cell_type": "markdown",
   "metadata": {},
   "source": [
    "# Optimize memory"
   ]
  },
  {
   "cell_type": "code",
   "execution_count": 3,
   "metadata": {},
   "outputs": [],
   "source": [
    "# import sys\n",
    "# sys.getsizeof(data_puffs)/(1024**2), sys.getsizeof(data_wind)/(1024**2) # MBs"
   ]
  },
  {
   "cell_type": "code",
   "execution_count": 4,
   "metadata": {},
   "outputs": [],
   "source": [
    "# data_puffs.memory_usage()\n",
    "# data_puffs.info()"
   ]
  },
  {
   "cell_type": "code",
   "execution_count": 5,
   "metadata": {},
   "outputs": [],
   "source": [
    "# # data_puffs['x'].memory_usage(), \\\n",
    "# #   data_puffs['x'].astype('float16').memory_usage(), \\\n",
    "# #   data_puffs['x'].astype('float32').memory_usage(), \\\n",
    "# #   data_puffs['x'].astype('float64').memory_usage(), \\\n",
    "\n",
    "# for df in [data_puffs, data_wind]:\n",
    "#     for col in df.select_dtypes(include='float').columns:\n",
    "#         df[col] = df[col].astype('float16')\n",
    "\n",
    "# sys.getsizeof(data_puffs)/(1024**2), sys.getsizeof(data_wind)/(1024**2) # MBs"
   ]
  },
  {
   "cell_type": "code",
   "execution_count": 6,
   "metadata": {},
   "outputs": [],
   "source": [
    "# data_wind.memory_usage()\n",
    "# data_wind.info()"
   ]
  },
  {
   "cell_type": "markdown",
   "metadata": {},
   "source": [
    "## Optimize speed"
   ]
  },
  {
   "cell_type": "code",
   "execution_count": 7,
   "metadata": {},
   "outputs": [
    {
     "data": {
      "text/plain": [
       "((12100,), (12100,))"
      ]
     },
     "execution_count": 7,
     "metadata": {},
     "output_type": "execute_result"
    }
   ],
   "source": [
    "data_wind\n",
    "# TODO: understand this difference\n",
    "data_wind['time'].shape, data_wind['time'].unique().shape\n",
    "# t_vals"
   ]
  },
  {
   "cell_type": "code",
   "execution_count": 8,
   "metadata": {},
   "outputs": [
    {
     "data": {
      "text/plain": [
       "[0.190185546875, 0.06182861328125]"
      ]
     },
     "execution_count": 8,
     "metadata": {},
     "output_type": "execute_result"
    }
   ],
   "source": [
    "data_wind.iloc[100,:][['wind_x','wind_y']].tolist()#['wind_x', 'wind_y'].tolist()\n"
   ]
  },
  {
   "cell_type": "code",
   "execution_count": 9,
   "metadata": {},
   "outputs": [],
   "source": [
    "# # Statements in plume_env\n",
    "# import numexpr as ne\n",
    "\n",
    "# def get_concentration_at_point_in_time_pandas(data, t_val, x_val, y_val):\n",
    "#     # find the indices for all puffs that intersect the given x,y,time point\n",
    "    \n",
    "#     qx = str(x_val) + ' > x_minus_radius and ' + str(x_val) + ' < x_plus_radius'\n",
    "#     qy = str(y_val) + ' > y_minus_radius and ' + str(y_val) + ' < y_plus_radius'\n",
    "#     q = qx + ' and ' + qy\n",
    "#     d = data[data[\"time\"]==t_val].query(q)\n",
    "#     return d.concentration.sum()"
   ]
  },
  {
   "cell_type": "code",
   "execution_count": 10,
   "metadata": {},
   "outputs": [],
   "source": [
    "t_val = 90.0\n",
    "# %timeit get_concentration_at_point_in_time_pandas( \\\n",
    "#     data_puffs, \\\n",
    "#     t_val, \\\n",
    "#     4 + np.random.uniform(-1, 1), \\\n",
    "#     np.random.uniform(-0.5, 0.5))"
   ]
  },
  {
   "cell_type": "code",
   "execution_count": 11,
   "metadata": {},
   "outputs": [],
   "source": [
    "# %timeit data_wind.query(\"time == {}\".format(t_val)).index[0]"
   ]
  },
  {
   "cell_type": "code",
   "execution_count": 12,
   "metadata": {},
   "outputs": [],
   "source": [
    "# df_idx = data_wind.query(\"time == {}\".format(t_val)).index[0]\n",
    "\n",
    "# %timeit data_wind.loc[df_idx,['wind_x', 'wind_y']].tolist()"
   ]
  },
  {
   "cell_type": "code",
   "execution_count": 13,
   "metadata": {},
   "outputs": [],
   "source": [
    "# %timeit data_wind.query(\"time == @t_val\").iloc[0,:2].tolist() # Same"
   ]
  },
  {
   "cell_type": "markdown",
   "metadata": {},
   "source": [
    "\n",
    "## Start data analysis"
   ]
  },
  {
   "cell_type": "code",
   "execution_count": 14,
   "metadata": {},
   "outputs": [
    {
     "name": "stdout",
     "output_type": "stream",
     "text": [
      "-1.0\n"
     ]
    }
   ],
   "source": [
    "flip_multiplier = -1.0 if np.random.uniform() < 0.5 else 1.0 \n",
    "data_puffs['y'] *= flip_multiplier\n",
    "data_wind['wind_y'] *= flip_multiplier\n",
    "print(flip_multiplier)"
   ]
  },
  {
   "cell_type": "code",
   "execution_count": 15,
   "metadata": {
    "scrolled": false
   },
   "outputs": [
    {
     "data": {
      "text/html": [
       "<div>\n",
       "<style scoped>\n",
       "    .dataframe tbody tr th:only-of-type {\n",
       "        vertical-align: middle;\n",
       "    }\n",
       "\n",
       "    .dataframe tbody tr th {\n",
       "        vertical-align: top;\n",
       "    }\n",
       "\n",
       "    .dataframe thead th {\n",
       "        text-align: right;\n",
       "    }\n",
       "</style>\n",
       "<table border=\"1\" class=\"dataframe\">\n",
       "  <thead>\n",
       "    <tr style=\"text-align: right;\">\n",
       "      <th></th>\n",
       "      <th>puff_number</th>\n",
       "      <th>time</th>\n",
       "      <th>x</th>\n",
       "      <th>y</th>\n",
       "      <th>radius</th>\n",
       "      <th>concentration</th>\n",
       "      <th>x_minus_radius</th>\n",
       "      <th>x_plus_radius</th>\n",
       "      <th>y_minus_radius</th>\n",
       "      <th>y_plus_radius</th>\n",
       "    </tr>\n",
       "  </thead>\n",
       "  <tbody>\n",
       "    <tr>\n",
       "      <td>0</td>\n",
       "      <td>0</td>\n",
       "      <td>0.03</td>\n",
       "      <td>0.000000</td>\n",
       "      <td>-0.000000</td>\n",
       "      <td>0.010002</td>\n",
       "      <td>0.0</td>\n",
       "      <td>-0.010002</td>\n",
       "      <td>0.010002</td>\n",
       "      <td>-0.010002</td>\n",
       "      <td>0.010002</td>\n",
       "    </tr>\n",
       "    <tr>\n",
       "      <td>1</td>\n",
       "      <td>0</td>\n",
       "      <td>0.04</td>\n",
       "      <td>0.000369</td>\n",
       "      <td>-0.006447</td>\n",
       "      <td>0.010101</td>\n",
       "      <td>0.0</td>\n",
       "      <td>-0.009735</td>\n",
       "      <td>0.010468</td>\n",
       "      <td>-0.003654</td>\n",
       "      <td>0.016541</td>\n",
       "    </tr>\n",
       "    <tr>\n",
       "      <td>2</td>\n",
       "      <td>0</td>\n",
       "      <td>0.05</td>\n",
       "      <td>0.000737</td>\n",
       "      <td>-0.012146</td>\n",
       "      <td>0.010201</td>\n",
       "      <td>0.0</td>\n",
       "      <td>-0.009460</td>\n",
       "      <td>0.010941</td>\n",
       "      <td>0.001945</td>\n",
       "      <td>0.022339</td>\n",
       "    </tr>\n",
       "    <tr>\n",
       "      <td>3</td>\n",
       "      <td>0</td>\n",
       "      <td>0.06</td>\n",
       "      <td>0.001106</td>\n",
       "      <td>-0.012161</td>\n",
       "      <td>0.010300</td>\n",
       "      <td>0.0</td>\n",
       "      <td>-0.009193</td>\n",
       "      <td>0.011406</td>\n",
       "      <td>0.001862</td>\n",
       "      <td>0.022461</td>\n",
       "    </tr>\n",
       "    <tr>\n",
       "      <td>4</td>\n",
       "      <td>0</td>\n",
       "      <td>0.07</td>\n",
       "      <td>0.001474</td>\n",
       "      <td>-0.016022</td>\n",
       "      <td>0.010399</td>\n",
       "      <td>0.0</td>\n",
       "      <td>-0.008926</td>\n",
       "      <td>0.011871</td>\n",
       "      <td>0.005623</td>\n",
       "      <td>0.026428</td>\n",
       "    </tr>\n",
       "  </tbody>\n",
       "</table>\n",
       "</div>"
      ],
      "text/plain": [
       "   puff_number  time         x         y    radius  concentration  \\\n",
       "0            0  0.03  0.000000 -0.000000  0.010002            0.0   \n",
       "1            0  0.04  0.000369 -0.006447  0.010101            0.0   \n",
       "2            0  0.05  0.000737 -0.012146  0.010201            0.0   \n",
       "3            0  0.06  0.001106 -0.012161  0.010300            0.0   \n",
       "4            0  0.07  0.001474 -0.016022  0.010399            0.0   \n",
       "\n",
       "   x_minus_radius  x_plus_radius  y_minus_radius  y_plus_radius  \n",
       "0       -0.010002       0.010002       -0.010002       0.010002  \n",
       "1       -0.009735       0.010468       -0.003654       0.016541  \n",
       "2       -0.009460       0.010941        0.001945       0.022339  \n",
       "3       -0.009193       0.011406        0.001862       0.022461  \n",
       "4       -0.008926       0.011871        0.005623       0.026428  "
      ]
     },
     "execution_count": 15,
     "metadata": {},
     "output_type": "execute_result"
    }
   ],
   "source": [
    "data_puffs.head()"
   ]
  },
  {
   "cell_type": "code",
   "execution_count": 16,
   "metadata": {},
   "outputs": [],
   "source": [
    "# data_puffs.groupby('puff_number').count()"
   ]
  },
  {
   "cell_type": "code",
   "execution_count": 17,
   "metadata": {},
   "outputs": [],
   "source": [
    "data_puffs['puff_number'].unique().shape\n",
    "\n",
    "def sparsify_puffs(data_puffs, sparsity=1.00):\n",
    "    sparsity = np.clip(sparsity, a_min=0.01, a_max=1.00)\n",
    "    if sparsity > 0.99:\n",
    "        return data_puffs\n",
    "    else:\n",
    "        n_rows = data_puffs.shape[0]\n",
    "        n_drop = int(n_rows * (1.00-sparsity))\n",
    "        drop_idxs = [1]*n_drop + [0]*(n_rows - n_drop)\n",
    "        np.random.shuffle(drop_idxs) # In place\n",
    "        drop_idxs = np.argwhere(drop_idxs)[:,0] # Get idxs of all 1s\n",
    "        return data_puffs.query(\"puff_number not in @drop_idxs\")\n",
    "    \n",
    "data_puffs_sparse = sparsify_puffs(data_puffs, sparsity=0.999) # Reduce to test out f()"
   ]
  },
  {
   "cell_type": "code",
   "execution_count": 18,
   "metadata": {},
   "outputs": [
    {
     "data": {
      "text/plain": [
       "((2393,), (2393,))"
      ]
     },
     "execution_count": 18,
     "metadata": {},
     "output_type": "execute_result"
    }
   ],
   "source": [
    "data_puffs['puff_number'].unique().shape, data_puffs_sparse['puff_number'].unique().shape"
   ]
  },
  {
   "cell_type": "code",
   "execution_count": 19,
   "metadata": {},
   "outputs": [
    {
     "data": {
      "text/html": [
       "<div>\n",
       "<style scoped>\n",
       "    .dataframe tbody tr th:only-of-type {\n",
       "        vertical-align: middle;\n",
       "    }\n",
       "\n",
       "    .dataframe tbody tr th {\n",
       "        vertical-align: top;\n",
       "    }\n",
       "\n",
       "    .dataframe thead th {\n",
       "        text-align: right;\n",
       "    }\n",
       "</style>\n",
       "<table border=\"1\" class=\"dataframe\">\n",
       "  <thead>\n",
       "    <tr style=\"text-align: right;\">\n",
       "      <th></th>\n",
       "      <th>wind_x</th>\n",
       "      <th>wind_y</th>\n",
       "      <th>time</th>\n",
       "    </tr>\n",
       "  </thead>\n",
       "  <tbody>\n",
       "    <tr>\n",
       "      <td>0</td>\n",
       "      <td>0.036865</td>\n",
       "      <td>-0.196533</td>\n",
       "      <td>0.00</td>\n",
       "    </tr>\n",
       "    <tr>\n",
       "      <td>1</td>\n",
       "      <td>0.036865</td>\n",
       "      <td>-0.196533</td>\n",
       "      <td>0.01</td>\n",
       "    </tr>\n",
       "    <tr>\n",
       "      <td>2</td>\n",
       "      <td>0.036865</td>\n",
       "      <td>-0.196533</td>\n",
       "      <td>0.02</td>\n",
       "    </tr>\n",
       "    <tr>\n",
       "      <td>3</td>\n",
       "      <td>0.036865</td>\n",
       "      <td>-0.196533</td>\n",
       "      <td>0.03</td>\n",
       "    </tr>\n",
       "    <tr>\n",
       "      <td>4</td>\n",
       "      <td>0.036865</td>\n",
       "      <td>-0.196533</td>\n",
       "      <td>0.04</td>\n",
       "    </tr>\n",
       "  </tbody>\n",
       "</table>\n",
       "</div>"
      ],
      "text/plain": [
       "     wind_x    wind_y  time\n",
       "0  0.036865 -0.196533  0.00\n",
       "1  0.036865 -0.196533  0.01\n",
       "2  0.036865 -0.196533  0.02\n",
       "3  0.036865 -0.196533  0.03\n",
       "4  0.036865 -0.196533  0.04"
      ]
     },
     "execution_count": 19,
     "metadata": {},
     "output_type": "execute_result"
    }
   ],
   "source": [
    "data_wind.head()"
   ]
  },
  {
   "cell_type": "code",
   "execution_count": 20,
   "metadata": {},
   "outputs": [
    {
     "name": "stderr",
     "output_type": "stream",
     "text": [
      "/home/satsingh/anaconda3/lib/python3.7/site-packages/pandas/plotting/_matplotlib/tools.py:307: MatplotlibDeprecationWarning: \n",
      "The rowNum attribute was deprecated in Matplotlib 3.2 and will be removed two minor releases later. Use ax.get_subplotspec().rowspan.start instead.\n",
      "  layout[ax.rowNum, ax.colNum] = ax.get_visible()\n",
      "/home/satsingh/anaconda3/lib/python3.7/site-packages/pandas/plotting/_matplotlib/tools.py:307: MatplotlibDeprecationWarning: \n",
      "The colNum attribute was deprecated in Matplotlib 3.2 and will be removed two minor releases later. Use ax.get_subplotspec().colspan.start instead.\n",
      "  layout[ax.rowNum, ax.colNum] = ax.get_visible()\n",
      "/home/satsingh/anaconda3/lib/python3.7/site-packages/pandas/plotting/_matplotlib/tools.py:313: MatplotlibDeprecationWarning: \n",
      "The rowNum attribute was deprecated in Matplotlib 3.2 and will be removed two minor releases later. Use ax.get_subplotspec().rowspan.start instead.\n",
      "  if not layout[ax.rowNum + 1, ax.colNum]:\n",
      "/home/satsingh/anaconda3/lib/python3.7/site-packages/pandas/plotting/_matplotlib/tools.py:313: MatplotlibDeprecationWarning: \n",
      "The colNum attribute was deprecated in Matplotlib 3.2 and will be removed two minor releases later. Use ax.get_subplotspec().colspan.start instead.\n",
      "  if not layout[ax.rowNum + 1, ax.colNum]:\n",
      "/home/satsingh/anaconda3/lib/python3.7/site-packages/pandas/plotting/_matplotlib/tools.py:307: MatplotlibDeprecationWarning: \n",
      "The rowNum attribute was deprecated in Matplotlib 3.2 and will be removed two minor releases later. Use ax.get_subplotspec().rowspan.start instead.\n",
      "  layout[ax.rowNum, ax.colNum] = ax.get_visible()\n",
      "/home/satsingh/anaconda3/lib/python3.7/site-packages/pandas/plotting/_matplotlib/tools.py:307: MatplotlibDeprecationWarning: \n",
      "The colNum attribute was deprecated in Matplotlib 3.2 and will be removed two minor releases later. Use ax.get_subplotspec().colspan.start instead.\n",
      "  layout[ax.rowNum, ax.colNum] = ax.get_visible()\n",
      "/home/satsingh/anaconda3/lib/python3.7/site-packages/pandas/plotting/_matplotlib/tools.py:313: MatplotlibDeprecationWarning: \n",
      "The rowNum attribute was deprecated in Matplotlib 3.2 and will be removed two minor releases later. Use ax.get_subplotspec().rowspan.start instead.\n",
      "  if not layout[ax.rowNum + 1, ax.colNum]:\n",
      "/home/satsingh/anaconda3/lib/python3.7/site-packages/pandas/plotting/_matplotlib/tools.py:313: MatplotlibDeprecationWarning: \n",
      "The colNum attribute was deprecated in Matplotlib 3.2 and will be removed two minor releases later. Use ax.get_subplotspec().colspan.start instead.\n",
      "  if not layout[ax.rowNum + 1, ax.colNum]:\n"
     ]
    },
    {
     "data": {
      "image/png": "[encoded data removed]",
      "text/plain": [
       "<Figure size 864x216 with 2 Axes>"
      ]
     },
     "metadata": {
      "needs_background": "light"
     },
     "output_type": "display_data"
    }
   ],
   "source": [
    "data_wind.iloc[:,:2].plot(subplots=True, figsize=(12,3));"
   ]
  },
  {
   "cell_type": "code",
   "execution_count": 21,
   "metadata": {},
   "outputs": [
    {
     "data": {
      "text/plain": [
       "(12100, 3)"
      ]
     },
     "execution_count": 21,
     "metadata": {},
     "output_type": "execute_result"
    }
   ],
   "source": [
    "data_wind.shape"
   ]
  },
  {
   "cell_type": "code",
   "execution_count": 22,
   "metadata": {},
   "outputs": [],
   "source": [
    "# Size of puff(s) over time\n",
    "# (data_puffs['x_plus_radius'] - data_puffs['x_minus_radius']).plot(figsize=(10,2));"
   ]
  },
  {
   "cell_type": "code",
   "execution_count": 23,
   "metadata": {},
   "outputs": [],
   "source": [
    "# Size of puff(s) over time\n",
    "# (data_puffs['y_plus_radius'] - data_puffs['y_minus_radius']).plot(figsize=(10,2));"
   ]
  },
  {
   "cell_type": "code",
   "execution_count": 24,
   "metadata": {},
   "outputs": [
    {
     "data": {
      "text/plain": [
       "120.99000000000001"
      ]
     },
     "execution_count": 24,
     "metadata": {},
     "output_type": "execute_result"
    }
   ],
   "source": [
    "t_val = data_wind['time'].iloc[-1]\n",
    "t_val\n",
    "# t_val = 70.0"
   ]
  },
  {
   "cell_type": "code",
   "execution_count": 25,
   "metadata": {},
   "outputs": [
    {
     "data": {
      "text/plain": [
       "0.199951    182\n",
       "0.201782     48\n",
       "0.205322     46\n",
       "0.203857     45\n",
       "0.210571     38\n",
       "           ... \n",
       "0.442383      1\n",
       "0.497559      1\n",
       "0.564453      1\n",
       "0.543945      1\n",
       "0.360596      1\n",
       "Length: 740, dtype: int64"
      ]
     },
     "execution_count": 25,
     "metadata": {},
     "output_type": "execute_result"
    },
    {
     "data": {
      "image/png": "[encoded data removed]",
      "text/plain": [
       "<Figure size 432x288 with 1 Axes>"
      ]
     },
     "metadata": {
      "needs_background": "light"
     },
     "output_type": "display_data"
    }
   ],
   "source": [
    "# Look at concentration distribution\n",
    "data_at_t = data_puffs[data_puffs.time==t_val]\n",
    "alphas = data_at_t.concentration.values\n",
    "\n",
    "alphas /= np.max(alphas) # 0...1\n",
    "alphas = np.power(alphas, 1/8)\n",
    "alphas = np.clip(alphas, 0.2, 1.0)\n",
    "\n",
    "pd.Series(alphas).hist(bins=50)\n",
    "pd.Series(alphas).value_counts()\n",
    "\n",
    "\n"
   ]
  },
  {
   "cell_type": "code",
   "execution_count": 26,
   "metadata": {},
   "outputs": [
    {
     "data": {
      "image/png": "[encoded data removed]",
      "text/plain": [
       "<Figure size 576x576 with 1 Axes>"
      ]
     },
     "metadata": {
      "needs_background": "light"
     },
     "output_type": "display_data"
    }
   ],
   "source": [
    "# t_val = min(60, t_val -1)\n",
    "fname = ''\n",
    "plotsize=(8,8) # this needs to be bigger than what comes out!\n",
    "fig, ax = plume_analysis.plot_puffs_and_wind_vectors(data_puffs, data_wind, t_val, \n",
    "                                           fname=fname, plotsize=plotsize)\n",
    "\n",
    "ax.set_xlim(-0.5, 15.5)\n",
    "# ax.set_xlim(-0.5, 6.5)\n",
    "ax.set_ylim(-1.8, +1.8)\n",
    "\n",
    "# ax.set_xlim(-0.2, 2.5)\n",
    "# ax.set_ylim(-0.5, 0.5)\n",
    "if 'switch' in dataset:\n",
    "    ax.set_xlim(-1, +10) # if switching\n",
    "    ax.set_ylim(-5, +5) # if switching\n",
    "\n",
    "\n",
    "# ax.set_ylim(-5, +5) # if switching\n",
    "fig.savefig(f't{t_val:3.3f}.png')"
   ]
  },
  {
   "cell_type": "code",
   "execution_count": 27,
   "metadata": {},
   "outputs": [],
   "source": [
    "# import mpl_scatter_density\n",
    "\n",
    "# data_puffs_at_t = data_puffs.query('time == @t_val')\n",
    "\n",
    "# xmin = -2 #data.x.min()\n",
    "# xmax = 12 #data.x.max()\n",
    "# ymin = -5 #data.y.min()\n",
    "# ymax = +5 #data.y.max()\n",
    "\n",
    "# fig = plt.figure()\n",
    "# ax = fig.add_subplot(1, 1, 1, projection='scatter_density')\n",
    "\n",
    "# s = ((ax.get_window_extent().width  / (xmax-xmin+1.) * 72./fig.dpi) ** 2)\n",
    "# s=s*(data_puffs_at_t.radius)**2\n",
    "\n",
    "# ax.scatter_density(data_puffs_at_t['x'], data_puffs_at_t['y'], s=s)\n",
    "# ax.set_xlim(xmin, xmax)\n",
    "# ax.set_ylim(ymin, ymax)\n",
    "\n",
    "\n",
    "# def plot_puffs(data, t_val, ax=None, show=True):\n",
    "#     if ax is None:\n",
    "#         fig = plt.figure()\n",
    "#         ax = fig.add_subplot(111)\n",
    "#     else:\n",
    "#         fig = ax.figure\n",
    "        \n",
    "#     xmin = -2 #data.x.min()\n",
    "#     xmax = 12 #data.x.max()\n",
    "#     ymin = -5 #data.y.min()\n",
    "#     ymax = +5 #data.y.max()\n",
    "\n",
    "#     data_at_t = data[data.time==t_val]\n",
    "\n",
    "#     c = data_at_t.concentration\n",
    "#     # print(c, t_val)\n",
    "\n",
    "#     alphas = (np.log(c+1e-5)+np.abs(np.log(1e-5))).values\n",
    "#     alphas /= np.max(alphas)\n",
    "#     alphas[np.where(alphas<0)] = 0\n",
    "#     alphas[np.where(alphas>1)] = 1    \n",
    "#     min_alpha = 0.3 # ALIFE\n",
    "#     alphas[np.where(alphas<min_alpha)] = min_alpha # ALIFE\n",
    "\n",
    "#     rgba_colors = np.zeros((data_at_t.time.shape[0],4))\n",
    "#     # rgba_colors[:,0] = 1.0 # Red\n",
    "#     # rgba_colors[:,2] = 1.0 # Blue\n",
    "#     # https://www.rapidtables.com/web/color/gray-color.html\n",
    "#     # rgba_colors[:,0:2] = matplotlib.colors.to_rgba('red')[:2] \n",
    "#     rgba_colors[:,0:2] = matplotlib.colors.to_rgba('gray')[:2] \n",
    "\n",
    "#     # the fourth column needs to be your alphas\n",
    "#     rgba_colors[:, 3] = alphas\n",
    "\n",
    "#     # set limits\n",
    "#     ax.set_xlim(xmin, xmax)\n",
    "#     ax.set_ylim(ymin, ymax)\n",
    "#     ax.set_aspect('equal')\n",
    "\n",
    "#     fig.canvas.draw()\n",
    "#     s = ((ax.get_window_extent().width  / (xmax-xmin+1.) * 72./fig.dpi) ** 2)\n",
    "\n",
    "#     ax.scatter(data_at_t.x, data_at_t.y, s=s*(data_at_t.radius)**2, facecolor=rgba_colors, edgecolor='none')\n",
    "\n",
    "#     if show:\n",
    "#         plt.show()\n"
   ]
  },
  {
   "cell_type": "markdown",
   "metadata": {},
   "source": [
    "## Data-driven initial location"
   ]
  },
  {
   "cell_type": "code",
   "execution_count": 28,
   "metadata": {},
   "outputs": [
    {
     "name": "stdout",
     "output_type": "stream",
     "text": [
      "13.291015625 1.6492187499999993\n",
      "-0.307861328125 0.46816406249999987\n"
     ]
    }
   ],
   "source": [
    "Z = data_puffs[data_puffs.time==t_val].loc[:,['x','y']]\n",
    "Z = Z.sample(n=1000, replace=False) if Z.shape[0] > 1000 else Z\n",
    "X_pcts = Z['x'].quantile([0.65, 0.75]).to_numpy()\n",
    "X_mean, X_var = X_pcts[1], X_pcts[1] - X_pcts[0]\n",
    "print(X_mean, X_var)\n",
    "\n",
    "Y_pcts = Z.query(\"(x >= @X_mean - @X_var) and (x <= @X_mean + @X_var)\")['y'].quantile([0.05,0.5]).to_numpy()\n",
    "Y_pcts\n",
    "Y_mean, Y_var = Y_pcts[1], Y_pcts[1] - Y_pcts[0]\n",
    "print(Y_mean, Y_var)"
   ]
  },
  {
   "cell_type": "markdown",
   "metadata": {},
   "source": [
    "## Bbox calculate (and store?)"
   ]
  },
  {
   "cell_type": "code",
   "execution_count": 29,
   "metadata": {},
   "outputs": [
    {
     "name": "stdout",
     "output_type": "stream",
     "text": [
      "False\n"
     ]
    },
    {
     "name": "stderr",
     "output_type": "stream",
     "text": [
      "/home/satsingh/anaconda3/lib/python3.7/site-packages/numpy/core/fromnumeric.py:87: VisibleDeprecationWarning: Creating an ndarray from ragged nested sequences (which is a list-or-tuple of lists-or-tuples-or ndarrays with different lengths or shapes) is deprecated. If you meant to do this, you must specify 'dtype=object' when creating the ndarray\n",
      "  return ufunc.reduce(obj, axis, dtype, out, **passkwargs)\n"
     ]
    }
   ],
   "source": [
    "# https://stackoverflow.com/questions/16750618/whats-an-efficient-way-to-find-if-a-point-lies-in-the-convex-hull-of-a-point-cl\n",
    "import numpy as np\n",
    "from scipy.optimize import linprog\n",
    "\n",
    "# Method 1: LP\n",
    "def in_hull(points, x):\n",
    "    n_points = len(points)\n",
    "    n_dim = len(x)\n",
    "    c = np.zeros(n_points)\n",
    "    A = np.r_[points.T,np.ones((1,n_points))]\n",
    "    b = np.r_[x, np.ones(1)]\n",
    "    lp = linprog(c, A_eq=A, b_eq=b)\n",
    "    return lp.success\n",
    "\n",
    "n_points = 10000\n",
    "n_dim = 10\n",
    "Z = np.random.rand(n_points,n_dim)\n",
    "x = np.random.rand(n_dim)\n",
    "print(in_hull(Z, x))\n",
    "# %timeit in_hull(Z, x) # 153 ms ± 1.39 ms per loop (mean ± std. dev. of 7 runs, 10 loops each)\n",
    "# inZ = lambda x: in_hull(Z, x)"
   ]
  },
  {
   "cell_type": "code",
   "execution_count": 30,
   "metadata": {},
   "outputs": [
    {
     "name": "stdout",
     "output_type": "stream",
     "text": [
      "[False]\n"
     ]
    }
   ],
   "source": [
    "# Method 2: Delaunay\n",
    "def in_hull(p, hull):\n",
    "    \"\"\"\n",
    "    Test if points in `p` are in `hull`\n",
    "\n",
    "    `p` should be a `NxK` coordinates of `N` points in `K` dimensions\n",
    "    `hull` is either a scipy.spatial.Delaunay object or the `MxK` array of the \n",
    "    coordinates of `M` points in `K`dimensions for which Delaunay triangulation\n",
    "    will be computed\n",
    "    \"\"\"\n",
    "    from scipy.spatial import Delaunay\n",
    "    if not isinstance(hull,Delaunay):\n",
    "        hull = Delaunay(hull)\n",
    "\n",
    "    return hull.find_simplex(p)>=0\n",
    "\n",
    "cloud  = np.random.rand(50,2)\n",
    "testset = np.random.rand(1,2)\n",
    "print(in_hull(testset,cloud))\n",
    "\n",
    "inZ = lambda x: in_hull(x,Z)"
   ]
  },
  {
   "cell_type": "code",
   "execution_count": 31,
   "metadata": {},
   "outputs": [],
   "source": [
    "# Method 3: [Approx] within certain distance of cloud \n",
    "\n",
    "from scipy.spatial.distance import cdist \n",
    "def in_hull(cloud, x, threshold=1.5):\n",
    "    Y = cdist(cloud, np.expand_dims(x,axis=0), metric='euclidean')\n",
    "    return min(Y) < threshold\n",
    "\n",
    "inZ = lambda x: in_hull(Z, x)"
   ]
  },
  {
   "cell_type": "code",
   "execution_count": 32,
   "metadata": {},
   "outputs": [
    {
     "data": {
      "text/plain": [
       "(2, 10, 10)"
      ]
     },
     "execution_count": 32,
     "metadata": {},
     "output_type": "execute_result"
    }
   ],
   "source": [
    "Z = data_puffs[data_puffs.time==t_val].loc[:,['x','y']].to_numpy()\n",
    "Z = Z[np.random.choice(Z.shape[0], 1000, replace=False)] if Z.shape[0] > 1000 else Z\n",
    "\n",
    "xmin = -0.1\n",
    "xmax = 7\n",
    "ymin = -5\n",
    "ymax = +5\n",
    "x = np.linspace(xmin, xmax, 10)\n",
    "y = np.linspace(ymin, ymax, 10)\n",
    "# xgrid, ygrid = np.meshgrid(x, y)\n",
    "# xgrid.shape, ygrid.shape\n",
    "grid = np.meshgrid(x, y)\n",
    "grid = np.array(grid)\n",
    "grid.shape"
   ]
  },
  {
   "cell_type": "code",
   "execution_count": 33,
   "metadata": {},
   "outputs": [],
   "source": [
    "# np.apply_along_axis(np.sum, 0, grid).shape"
   ]
  },
  {
   "cell_type": "code",
   "execution_count": 34,
   "metadata": {},
   "outputs": [
    {
     "data": {
      "text/plain": [
       "(10, 10)"
      ]
     },
     "execution_count": 34,
     "metadata": {},
     "output_type": "execute_result"
    }
   ],
   "source": [
    "# inZgrid = np.apply_along_axis(inZ, 0, grid) # 8.72s for 10x10 for LP\n",
    "# inZgrid = np.apply_along_axis(inZ, 0, grid) # 8.4s for 10x10 for Delaunay\n",
    "inZgrid = np.apply_along_axis(inZ, 0, grid)[0,:,:] # 8.4s for 10x10 for Delaunay\n",
    "inZgrid.shape"
   ]
  },
  {
   "cell_type": "code",
   "execution_count": 35,
   "metadata": {},
   "outputs": [],
   "source": [
    "# %time np.apply_along_axis(inZ, 0, grid) "
   ]
  },
  {
   "cell_type": "code",
   "execution_count": 36,
   "metadata": {},
   "outputs": [
    {
     "data": {
      "text/plain": [
       "<matplotlib.image.AxesImage at 0x7f418c25dc10>"
      ]
     },
     "execution_count": 36,
     "metadata": {},
     "output_type": "execute_result"
    },
    {
     "data": {
      "image/png": "[encoded data removed]",
      "text/plain": [
       "<Figure size 432x288 with 1 Axes>"
      ]
     },
     "metadata": {
      "needs_background": "light"
     },
     "output_type": "display_data"
    }
   ],
   "source": [
    "plt.imshow(inZgrid) # Holy cow it works!"
   ]
  },
  {
   "cell_type": "markdown",
   "metadata": {},
   "source": [
    "## Animation"
   ]
  },
  {
   "cell_type": "code",
   "execution_count": 37,
   "metadata": {},
   "outputs": [],
   "source": [
    "# Animation example -- works well!\n",
    "# # https://stackoverflow.com/questions/15525431/how-to-fix-the-python-multiprocessing-matplotlib-savefig-issue\n",
    "# import numpy as np\n",
    "# from multiprocessing import Pool\n",
    "\n",
    "# def graphing_function(i):\n",
    "#     import matplotlib.pyplot as plt # within each process!\n",
    "#     print(i)\n",
    "#     plt.figure()\n",
    "#     plt.scatter(*np.random.randn(100,2).T)\n",
    "#     plt.savefig(f'tmp{i:04d}.png')\n",
    "#     plt.close()\n",
    "#     return\n",
    "\n",
    "# pool = Pool(4)\n",
    "# pool.map(graphing_function, [i for i in range(8)]) "
   ]
  },
  {
   "cell_type": "code",
   "execution_count": 38,
   "metadata": {},
   "outputs": [],
   "source": [
    "# Animation -- works well!\n",
    "\n",
    "# from multiprocessing import Pool\n",
    "\n",
    "# def graphing_function(t_val):\n",
    "#     plotsize=(8,8) # this needs to be bigger than what comes out!\n",
    "#     fig, ax = plume_analysis.plot_puffs_and_wind_vectors(data_puffs, data_wind, t_val, \n",
    "#                                                fname='', plotsize=plotsize)\n",
    "#     ax.set_xlim(-0.5, 12.5)\n",
    "#     ax.set_ylim(-1.5, +1.5)\n",
    "#     fname = 'tmp/t{:012.8f}.png'.format(t_val)\n",
    "#     fig.savefig(fname)\n",
    "#     plt.close()\n",
    "#     return fname\n",
    "\n",
    "# pool = Pool(20)\n",
    "# t_vals_anim = data_wind.query(\"time >= 60.0 and time <= 63.0\")['time'] # TODO float32!\n",
    "# fnames = pool.map(graphing_function, t_vals_anim) \n",
    "\n",
    "# from natsort import natsorted\n",
    "# fnames = natsorted(fnames,reverse=False)\n",
    "# len(fnames)\n",
    "\n",
    "# # print( \"ffmpeg -n -i '\"'animation_%04d.jpg'\"' animation.m4v\")\n",
    "# from moviepy.editor import ImageClip, concatenate_videoclips\n",
    "# clips = [ImageClip(f).set_duration(0.02) for f in fnames] # \n",
    "# concat_clip = concatenate_videoclips(clips, method=\"compose\")\n",
    "# concat_clip.write_videofile(\"test.mp4\", fps=30)\n",
    "\n",
    "# # https://stackoverflow.com/questions/10840533/most-pythonic-way-to-delete-a-file-which-may-not-exist\n",
    "# import contextlib\n",
    "# import os\n",
    "# for f in fnames:\n",
    "#     with contextlib.suppress(FileNotFoundError):\n",
    "#         os.remove(f)"
   ]
  },
  {
   "cell_type": "code",
   "execution_count": 39,
   "metadata": {},
   "outputs": [
    {
     "data": {
      "image/png": "[encoded data removed]",
      "text/plain": [
       "<Figure size 432x288 with 1 Axes>"
      ]
     },
     "metadata": {
      "needs_background": "light"
     },
     "output_type": "display_data"
    }
   ],
   "source": [
    "# import matplotlib.pyplot as plt\n",
    "# https://stackoverflow.com/questions/23345565/is-it-possible-to-control-matplotlib-marker-orientation\n",
    "x = [r for r in range(10)]\n",
    "for i in x:\n",
    "#     plt.plot(i, i, marker=(4, 0, i*15-15), markersize=20, linestyle='None')\n",
    "    plt.plot(i, i, marker=(3, 0, i*15), markersize=20, linestyle='None')\n",
    "\n",
    "\n",
    "\n",
    "plt.xlim([0,10])\n",
    "plt.ylim([0,10])\n",
    "\n",
    "plt.show()"
   ]
  },
  {
   "cell_type": "code",
   "execution_count": 40,
   "metadata": {},
   "outputs": [
    {
     "data": {
      "image/png": "[encoded data removed]",
      "text/plain": [
       "<Figure size 432x288 with 1 Axes>"
      ]
     },
     "metadata": {
      "needs_background": "light"
     },
     "output_type": "display_data"
    }
   ],
   "source": [
    "# Try directed arrows per\n",
    "# https://stackoverflow.com/questions/47619545/how-to-plot-a-directed-line-in-matplotlib\n",
    "\n",
    "import numpy as np ; np.random.seed(7)\n",
    "import matplotlib.pyplot as plt\n",
    "from matplotlib.patches import FancyArrowPatch \n",
    "\n",
    "class RL(object):\n",
    "    def __init__(self, n, d, s=0.1):\n",
    "        a = np.random.randn(n)*s\n",
    "        a[0] = np.random.rand(1)*np.pi*2\n",
    "        self.xy = np.random.rand(n,2)*5\n",
    "        self.xy[1,:] = self.xy[0,:] + np.array([d*np.cos(a[0]),d*np.sin(a[0])])\n",
    "        for i in range(2,n):\n",
    "            (x,y), = np.diff(self.xy[i-2:i,:], axis=0)\n",
    "            na = np.arctan2(y,x)+a[i]\n",
    "            self.xy[i,:] = self.xy[i-1,:] + np.array([d*np.cos(na),d*np.sin(na)])\n",
    "        self.x = self.xy[:,0]; self.y = self.xy[:,1]\n",
    "\n",
    "l1 = RL(1000,0.005)\n",
    "l2 = RL(1000,0.007)\n",
    "l3 = RL(1000,0.005)\n",
    "\n",
    "fig, ax = plt.subplots()\n",
    "ax.set_aspect(\"equal\")\n",
    "ax.plot(l1.x, l1.y)\n",
    "ax.plot(l2.x, l2.y)\n",
    "ax.plot(l3.x, l3.y)\n",
    "ax.plot(l1.x[0], l1.y[0], marker=\"o\")\n",
    "\n",
    "def arrow(x,y,ax,n):\n",
    "    d = len(x)//(n+1)    \n",
    "    ind = np.arange(d,len(x),d)\n",
    "    for i in ind:\n",
    "        ar = FancyArrowPatch ((x[i-1],y[i-1]),(x[i],y[i]), \n",
    "                              arrowstyle='->', mutation_scale=20)\n",
    "        ax.add_patch(ar)\n",
    "\n",
    "arrow(l1.x,l1.y,ax,3)\n",
    "arrow(l2.x,l2.y,ax,6)\n",
    "arrow(l3.x,l3.y,ax,10)\n",
    "\n",
    "plt.show()"
   ]
  }
 ],
 "metadata": {
  "kernelspec": {
   "display_name": "Python 3",
   "language": "python",
   "name": "python3"
  },
  "language_info": {
   "codemirror_mode": {
    "name": "ipython",
    "version": 3
   },
   "file_extension": ".py",
   "mimetype": "text/x-python",
   "name": "python",
   "nbconvert_exporter": "python",
   "pygments_lexer": "ipython3",
   "version": "3.7.4"
  }
 },
 "nbformat": 4,
 "nbformat_minor": 2
}
