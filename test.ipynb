{
 "cells": [
  {
   "cell_type": "code",
   "execution_count": 1,
   "metadata": {},
   "outputs": [],
   "source": [
    "stupid_str = '--env-name plume --recurrent-policy --dataset constantx5b5 noisy3x5b5 --num-env-steps 1000000 4000000 --birthx 0.3 0.8 --flipping True --qvar 2.0 0.5 --save-dir ./test/test_reset20231106/ --log-interval 1 --r_shaping step oob --algo ppo --seed 12684 --squash_action True --diff_max 0.8 0.8 --diff_min 0.7 0.4 --num-processes 4 --num-mini-batch 4 --odor_scaling True --rnn_type VRNN --hidden_size 64 --weight_decay 0.0001 --use-gae --num-steps 2048 --lr 3e-4 --entropy-coef 0.005 --value-loss-coef 0.5 --ppo-epoch 10 --gamma 0.99 --gae-lambda 0.95 --use-linear-lr-decay --outsuffix 20231106_VRNN_constantx5b5noisy3x5b5_stepoob_bx0.30.8_t10000004000000_q2.00.5_dmx0.80.8_dmn0.70.4_h64_wd0.0001_n4_codeVRNN_seed12684d3 --birthx_linear_tc_steps 100'"
   ]
  },
  {
   "cell_type": "code",
   "execution_count": 2,
   "metadata": {},
   "outputs": [
    {
     "data": {
      "text/plain": [
       "['--env-name',\n",
       " 'plume',\n",
       " '--recurrent-policy',\n",
       " '--dataset',\n",
       " 'constantx5b5',\n",
       " 'noisy3x5b5',\n",
       " '--num-env-steps',\n",
       " '1000000',\n",
       " '4000000',\n",
       " '--birthx',\n",
       " '0.3',\n",
       " '0.8',\n",
       " '--flipping',\n",
       " 'True',\n",
       " '--qvar',\n",
       " '2.0',\n",
       " '0.5',\n",
       " '--save-dir',\n",
       " './test/test_reset20231106/',\n",
       " '--log-interval',\n",
       " '1',\n",
       " '--r_shaping',\n",
       " 'step',\n",
       " 'oob',\n",
       " '--algo',\n",
       " 'ppo',\n",
       " '--seed',\n",
       " '12684',\n",
       " '--squash_action',\n",
       " 'True',\n",
       " '--diff_max',\n",
       " '0.8',\n",
       " '0.8',\n",
       " '--diff_min',\n",
       " '0.7',\n",
       " '0.4',\n",
       " '--num-processes',\n",
       " '4',\n",
       " '--num-mini-batch',\n",
       " '4',\n",
       " '--odor_scaling',\n",
       " 'True',\n",
       " '--rnn_type',\n",
       " 'VRNN',\n",
       " '--hidden_size',\n",
       " '64',\n",
       " '--weight_decay',\n",
       " '0.0001',\n",
       " '--use-gae',\n",
       " '--num-steps',\n",
       " '2048',\n",
       " '--lr',\n",
       " '3e-4',\n",
       " '--entropy-coef',\n",
       " '0.005',\n",
       " '--value-loss-coef',\n",
       " '0.5',\n",
       " '--ppo-epoch',\n",
       " '10',\n",
       " '--gamma',\n",
       " '0.99',\n",
       " '--gae-lambda',\n",
       " '0.95',\n",
       " '--use-linear-lr-decay',\n",
       " '--outsuffix',\n",
       " '20231106_VRNN_constantx5b5noisy3x5b5_stepoob_bx0.30.8_t10000004000000_q2.00.5_dmx0.80.8_dmn0.70.4_h64_wd0.0001_n4_codeVRNN_seed12684d3',\n",
       " '--birthx_linear_tc_steps',\n",
       " '100']"
      ]
     },
     "execution_count": 2,
     "metadata": {},
     "output_type": "execute_result"
    }
   ],
   "source": [
    "arg_list = stupid_str.split(' ')\n",
    "\n",
    "for arg in arg_list:\n",
    "    print(arg + ',')"
   ]
  },
  {
   "cell_type": "code",
   "execution_count": 3,
   "metadata": {},
   "outputs": [
    {
     "ename": "NameError",
     "evalue": "name 'arg_list' is not defined",
     "output_type": "error",
     "traceback": [
      "\u001b[0;31m---------------------------------------------------------------------------\u001b[0m",
      "\u001b[0;31mNameError\u001b[0m                                 Traceback (most recent call last)",
      "\u001b[1;32m/src/TrainigCurriculum/test.ipynb Cell 3\u001b[0m line \u001b[0;36m<cell line: 1>\u001b[0;34m()\u001b[0m\n\u001b[0;32m----> <a href='vscode-notebook-cell://attached-container%2B7b22636f6e7461696e65724e616d65223a222f726c5f706c756d655f747261636b696e672d706c756d655f626173652d31227d@ssh-remote%2Bglados.biology.uw.edu/src/TrainigCurriculum/test.ipynb#W2sdnNjb2RlLXJlbW90ZQ%3D%3D?line=0'>1</a>\u001b[0m \u001b[39mprint\u001b[39m(arg_list)\n",
      "\u001b[0;31mNameError\u001b[0m: name 'arg_list' is not defined"
     ]
    }
   ],
   "source": [
    "print(arg_list)"
   ]
  },
  {
   "cell_type": "code",
   "execution_count": null,
   "metadata": {},
   "outputs": [],
   "source": []
  }
 ],
 "metadata": {
  "kernelspec": {
   "display_name": "Python 3",
   "language": "python",
   "name": "python3"
  },
  "language_info": {
   "codemirror_mode": {
    "name": "ipython",
    "version": 3
   },
   "file_extension": ".py",
   "mimetype": "text/x-python",
   "name": "python",
   "nbconvert_exporter": "python",
   "pygments_lexer": "ipython3",
   "version": "3.8.10"
  },
  "orig_nbformat": 4
 },
 "nbformat": 4,
 "nbformat_minor": 2
}
